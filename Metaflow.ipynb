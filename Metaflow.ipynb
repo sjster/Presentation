{
  "cells": [
    {
      "cell_type": "code",
      "source": [
        "from metaflow import FlowSpec, step\n",
        "import sys\n",
        "import os\n",
        "from pathlib import Path\n",
        "\n",
        "path = Path(os.getcwd())\n",
        "sys.path.append(str(path.parent))\n",
        "\n",
        "import nlopt_z_match\n",
        "import numpy as np\n",
        "import math\n",
        "import pandas as pd\n",
        "import imp\n",
        "import time\n",
        "from plotly.offline import download_plotlyjs, init_notebook_mode, plot, iplot\n",
        "import plotly.graph_objs as go\n",
        "import logging_mod\n",
        "import os\n",
        "\n",
        "class ForeachFlow(FlowSpec):\n",
        "\n",
        "    @step\n",
        "    def start(self):\n",
        "        self.filename = '../Animal_Data_study_backup.csv'\n",
        "        weights = [1]*72\n",
        "        weights[15] = 9\n",
        "        weights[2] = 7\n",
        "        weights[5] = 5\n",
        "        weights[34] = 8\n",
        "        weights[10] = 10\n",
        "        weights[25] = 4.5\n",
        "        weights[35] = 4.5\n",
        "        weights[45] = 17.78\n",
        "        weights[55] = 2.0\n",
        "        self.weights_array = weights\n",
        "        self.grad_calculation = ['finite','svd']\n",
        "        self.imds_init_flag = 0\n",
        "        self.next(self.a, foreach='grad_calculation')\n",
        "\n",
        "    @step\n",
        "    def a(self):\n",
        "        print(\"Starting Backward MDS --- case 1 \",self.input)\n",
        "        self.title = '%s processed' % self.input\n",
        "        self.nlopt_weights, self.orig, self.nlopt_residual, self.fn_count = nlopt_z_match.main(self.filename,\n",
        "                                                                          self.weights_array,\n",
        "                                                                          self.input)\n",
        "        print('The result is: %s' % self.nlopt_residual, self.fn_count)\n",
        "        self.next(self.newstep)\n",
        "\n",
        "    @step\n",
        "    def newstep(self, inputs):\n",
        "        self.results = [input.title for input in inputs]\n",
        "        self.next(self.end)\n",
        "\n",
        "    @step\n",
        "    def end(self):\n",
        "        print('\\n'.join(self.results))\n",
        "\n",
        "if __name__ == '__main__':\n",
        "    ForeachFlow()\n"
      ],
      "outputs": [],
      "execution_count": null,
      "metadata": {
        "collapsed": true,
        "outputExpanded": false,
        "jupyter": {
          "source_hidden": false,
          "outputs_hidden": false
        },
        "nteract": {
          "transient": {
            "deleting": false
          }
        }
      }
    },
    {
      "cell_type": "code",
      "source": [
        "# To run the flow\n",
        "python runner.py run\n",
        "\n",
        "# To get a workflow graph\n",
        "python runner.py output-dot | dot -Tpng -o graph.png\n",
        "\n",
        "# To run a task"
      ],
      "outputs": [],
      "execution_count": null,
      "metadata": {
        "collapsed": true,
        "outputExpanded": false,
        "jupyter": {
          "source_hidden": false,
          "outputs_hidden": false
        },
        "nteract": {
          "transient": {
            "deleting": false
          }
        }
      }
    }
  ],
  "metadata": {
    "kernel_info": {
      "name": "python3"
    },
    "language_info": {
      "name": "python3"
    },
    "kernelspec": {
      "argv": [
        "python",
        "-m",
        "ipykernel_launcher",
        "-f",
        "{connection_file}"
      ],
      "display_name": "Python 3",
      "language": "python",
      "name": "python3"
    },
    "nteract": {
      "version": "0.22.4"
    }
  },
  "nbformat": 4,
  "nbformat_minor": 0
}