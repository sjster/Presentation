{
  "cells": [
    {
      "cell_type": "code",
      "source": [
        "from airflow import DAG\n",
        "from airflow.operators.bash_operator import BashOperator\n",
        "from airflow.operators.python_operator import PythonOperator\n",
        "from datetime import datetime, timedelta\n",
        "import generate_graphs_remote as gr\n",
        "from pprint import pprint\n",
        "import logging\n",
        "import os\n",
        "\n",
        "\n",
        "path_var = '/home/srijith/.tej/jobs/attn_pytorch/stage'\n",
        "source_var = 'attention_pytorch.py'\n",
        "env_var = 'pytorch_env'\n",
        "\n",
        "\n",
        "def print_context(ds, **kwargs):\n",
        "    pprint(kwargs)\n",
        "    print(ds)\n",
        "    env = kwargs['env']\n",
        "    path = kwargs['path']\n",
        "    filename = kwargs['filename']\n",
        "    file_out = kwargs['filename_out']\n",
        "    logfile = kwargs['logfile']\n",
        "    args = kwargs.get('args', '')\n",
        "\n",
        "    cmd = 'source activate ' + env + ' && cd ' + path + \\\n",
        "    ' && python ' + filename + ' ' + args + ' > ' + file_out\n",
        "\n",
        "    f = open(logfile,'a')\n",
        "    f.write(str(datetime.now()) + '   ' + str(cmd) + '\\n')\n",
        "    f.close()\n",
        "\n",
        "    cmd2 = '/bin/bash -c \"' + cmd + '\"'\n",
        "    os.system(cmd2)\n",
        "\n",
        "    return('Whatever you return gets printed in the logs')\n",
        "\n",
        "\n",
        "def generate_graphs(ds, **kwargs):\n",
        "          gr.get_history_single('/home/srijith/.tej/jobs/attn_pytorch/stage/model_metrics_charngrams.json',\\\n",
        "                                '/home/srijith/.tej/jobs/attn_pytorch/stage/history.pdf','Training and   validation accuracy for Charngrams')\n",
        "          gr.get_boxplots_single('/home/srijith/.tej/jobs/attn_pytorch/stage/model_metrics_charngrams.json',\\\n",
        "                           '/home/srijith/.tej/jobs/attn_pytorch/stage/metrics_boxplot.pdf','Metrics for Charngrams')\n",
        "          return(0)\n",
        "\n",
        "default_args = {\n",
        "    'owner': 'srijith',\n",
        "    'depends_on_past': False,\n",
        "    'start_date': datetime(2019, 6, 27),\n",
        "    'email': ['srijithr@vt.edu'],\n",
        "    'email_on_failure': False,\n",
        "    'email_on_retry': False,\n",
        "    'retries': 1,\n",
        "    'retry_delay': timedelta(minutes=2),\n",
        "    'catchup': False,\n",
        "}\n",
        "\n",
        "\n",
        "dag = DAG(\n",
        "    'pytorch_rnn', default_args=default_args, schedule_interval=None)\n",
        "\n",
        "rnn_run = PythonOperator(\n",
        "    task_id='rnn_run',\n",
        "    provide_context=True,\n",
        "    python_callable=print_context,\n",
        "    op_kwargs = {'filename_out': 'out',\n",
        "                 'logfile': 'log',\n",
        "                 'filename': source_var,\n",
        "                 'path': path_var,\n",
        "                 'env': env_var\n",
        "                 },\n",
        "    dag=dag,\n",
        ")\n",
        "\n",
        "\n",
        "rnn_run2 = PythonOperator(\n",
        "    task_id='rnn_run2',\n",
        "    provide_context=True,\n",
        "    python_callable=print_context,\n",
        "    op_kwargs = {'filename_out': 'out2',\n",
        "                 'logfile': 'log',\n",
        "                 'filename': source_var,\n",
        "                 'path': path_var,\n",
        "                 'env': env_var\n",
        "                 },\n",
        "    dag=dag,\n",
        ")\n",
        "\n",
        "\n",
        "plot_run = PythonOperator(\n",
        "    task_id='plot_run',\n",
        "    provide_context=True,\n",
        "    python_callable=generate_graphs,\n",
        "    op_kwargs = {'filename_out': 'out',\n",
        "                 'logfile': 'log',\n",
        "                 'filename': source_var,\n",
        "                 'path': path_var,\n",
        "                 'env': env_var\n",
        "                 },\n",
        "    dag=dag,\n",
        ")\n",
        "\n",
        "\n",
        "remove_model_metrics = BashOperator(\n",
        "    task_id='remove_model_metrics',\n",
        "    bash_command='cd /home/srijith/.tej/jobs/attn_pytorch/stage && rm model_metrics.json && rm roc_metrics.json',\n",
        "    dag=dag)\n",
        "\n",
        "\n",
        "cp_model_metrics = BashOperator(\n",
        "    task_id='cp_model_metrics',\n",
        "    bash_command='cd /home/srijith/.tej/jobs/attn_pytorch/stage && cp model_metrics.json model_metrics_charngrams.json',\n",
        "    dag=dag)\n",
        "\n",
        "rnn_run >> rnn_run2 >> cp_model_metrics >> plot_run"
      ],
      "outputs": [],
      "execution_count": null,
      "metadata": {
        "collapsed": true,
        "outputExpanded": false,
        "jupyter": {
          "source_hidden": false,
          "outputs_hidden": false
        },
        "nteract": {
          "transient": {
            "deleting": false
          }
        }
      }
    },
    {
      "cell_type": "code",
      "source": [
        "## Run airflow\n",
        "\n",
        "airflow backfill -s -1 pytorch_rnn\n",
        "\n",
        "## Clear airflow runs to rerun\n",
        "\n",
        "airflow clear pytorch_rnn.py"
      ],
      "outputs": [],
      "execution_count": null,
      "metadata": {
        "collapsed": true,
        "outputExpanded": false,
        "jupyter": {
          "source_hidden": false,
          "outputs_hidden": false
        },
        "nteract": {
          "transient": {
            "deleting": false
          }
        }
      }
    },
    {
      "cell_type": "code",
      "source": [],
      "outputs": [],
      "execution_count": null,
      "metadata": {
        "collapsed": true,
        "outputExpanded": false,
        "jupyter": {
          "source_hidden": false,
          "outputs_hidden": false
        },
        "nteract": {
          "transient": {
            "deleting": false
          }
        }
      }
    }
  ],
  "metadata": {
    "kernel_info": {
      "name": "python3"
    },
    "language_info": {
      "name": "python3"
    },
    "kernelspec": {
      "argv": [
        "python",
        "-m",
        "ipykernel_launcher",
        "-f",
        "{connection_file}"
      ],
      "display_name": "Python 3",
      "language": "python",
      "name": "python3"
    },
    "nteract": {
      "version": "0.22.4"
    }
  },
  "nbformat": 4,
  "nbformat_minor": 0
}